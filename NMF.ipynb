{
 "cells": [
  {
   "cell_type": "code",
   "execution_count": 1,
   "metadata": {},
   "outputs": [
    {
     "name": "stdout",
     "output_type": "stream",
     "text": [
      "[[3.44700582e-02 0.00000000e+00 2.58429515e-01]\n",
      " [9.04010400e-03 9.38798617e-03 9.82784950e-01]\n",
      " [1.26224291e-03 5.30444204e-02 1.57356389e+00]]\n",
      "[[ 0.         21.55215386 44.45506411]\n",
      " [16.04570572  6.44538761  0.        ]\n",
      " [ 3.90940827  4.8437584   5.68714662]]\n",
      "[[1.01030648 1.99467413 3.00209519]\n",
      " [3.99274447 5.01571578 5.99112051]\n",
      " [7.00283886 7.99105923 9.00520167]]\n"
     ]
    }
   ],
   "source": [
    "import numpy as np\n",
    "from sklearn.decomposition import NMF\n",
    "from sklearn.preprocessing import normalize\n",
    "\n",
    "# Create a matrix\n",
    "matrix = np.asarray([[1, 2, 3], [4, 5, 6], [7, 8, 9]])\n",
    "\n",
    "# Decompose the matrix into two non-negative matrices\n",
    "nmf = NMF()\n",
    "W = nmf.fit_transform(matrix)\n",
    "H = nmf.components_\n",
    "\n",
    "# Print the resulting matrices\n",
    "print(W)\n",
    "print(H)\n",
    "\n",
    "# Multiply the matrices together and print the result\n",
    "result = np.dot(W, H)\n",
    "print(result)"
   ]
  },
  {
   "cell_type": "code",
   "execution_count": null,
   "metadata": {},
   "outputs": [],
   "source": []
  }
 ],
 "metadata": {
  "kernelspec": {
   "display_name": "Python 3",
   "language": "python",
   "name": "python3"
  },
  "language_info": {
   "codemirror_mode": {
    "name": "ipython",
    "version": 3
   },
   "file_extension": ".py",
   "mimetype": "text/x-python",
   "name": "python",
   "nbconvert_exporter": "python",
   "pygments_lexer": "ipython3",
   "version": "3.8.1"
  },
  "orig_nbformat": 4,
  "vscode": {
   "interpreter": {
    "hash": "2469a70536e4d2335a2ea8907942d0699c37342a371ac185bdb5b0aa6f073890"
   }
  }
 },
 "nbformat": 4,
 "nbformat_minor": 2
}
