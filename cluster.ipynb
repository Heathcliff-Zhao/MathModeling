{
 "cells": [
  {
   "cell_type": "code",
   "execution_count": 5,
   "metadata": {},
   "outputs": [
    {
     "name": "stdout",
     "output_type": "stream",
     "text": [
      "Cluster 0: [[1 3]\n",
      " [1 4]]\n",
      "Cluster 1: [[3 1]\n",
      " [3 2]\n",
      " [4 1]\n",
      " [4 2]\n",
      " [2 3]\n",
      " [2 4]]\n",
      "Cluster 0: [[1 3]\n",
      " [1 4]\n",
      " [2 3]\n",
      " [2 4]]\n",
      "Cluster 1: [[3 1]\n",
      " [3 2]\n",
      " [4 1]\n",
      " [4 2]]\n",
      "Cluster 0: [[1 3]\n",
      " [1 4]\n",
      " [2 3]\n",
      " [2 4]]\n",
      "Cluster 1: [[3 1]\n",
      " [3 2]\n",
      " [4 1]\n",
      " [4 2]]\n",
      "Cluster 0: [[1 3]\n",
      " [1 4]\n",
      " [2 3]\n",
      " [2 4]]\n",
      "Cluster 1: [[3 1]\n",
      " [3 2]\n",
      " [4 1]\n",
      " [4 2]]\n",
      "Cluster 0: [[1 3]\n",
      " [1 4]\n",
      " [2 3]\n",
      " [2 4]]\n",
      "Cluster 1: [[3 1]\n",
      " [3 2]\n",
      " [4 1]\n",
      " [4 2]]\n"
     ]
    }
   ],
   "source": [
    "import numpy as np\n",
    "\n",
    "def kmeans(data, k, max_iterations=5):\n",
    "  # Initialize cluster centers randomly\n",
    "#   centers = data[np.random.choice(data.shape[0], k)]\n",
    "  centers = np.array([[0,4],[3,3]])\n",
    "  for i in range(max_iterations):\n",
    "    # Assign data points to closest cluster center\n",
    "    distances = np.sqrt(np.sum((data[:, np.newaxis] - centers) ** 2, axis=2))\n",
    "    cluster_indices = np.argmin(distances, axis=1)\n",
    "\n",
    "    # Recalculate cluster centers\n",
    "    new_centers = []\n",
    "    for j in range(k):\n",
    "      cluster_points = data[cluster_indices == j]\n",
    "      new_centers.append(np.mean(cluster_points, axis=0))\n",
    "    centers = new_centers\n",
    "\n",
    "    # Print data points in each cluster\n",
    "    for j in range(k):\n",
    "      cluster_points = data[cluster_indices == j]\n",
    "      print(f\"Cluster {j}: {cluster_points}\")\n",
    "\n",
    "# Example usage\n",
    "data = np.array([(3,1), (3,2), (4,1), (4,2), (1,3), (1,4), (2,3), (2,4)])\n",
    "kmeans(data, 2)\n"
   ]
  },
  {
   "cell_type": "code",
   "execution_count": 4,
   "metadata": {},
   "outputs": [
    {
     "data": {
      "text/plain": [
       "array([[3, 1],\n",
       "       [2, 4]])"
      ]
     },
     "execution_count": 4,
     "metadata": {},
     "output_type": "execute_result"
    }
   ],
   "source": [
    "data[np.random.choice(data.shape[0], 2)]"
   ]
  },
  {
   "cell_type": "code",
   "execution_count": null,
   "metadata": {},
   "outputs": [],
   "source": []
  }
 ],
 "metadata": {
  "kernelspec": {
   "display_name": "Python 3",
   "language": "python",
   "name": "python3"
  },
  "language_info": {
   "codemirror_mode": {
    "name": "ipython",
    "version": 3
   },
   "file_extension": ".py",
   "mimetype": "text/x-python",
   "name": "python",
   "nbconvert_exporter": "python",
   "pygments_lexer": "ipython3",
   "version": "3.8.1"
  },
  "orig_nbformat": 4,
  "vscode": {
   "interpreter": {
    "hash": "2469a70536e4d2335a2ea8907942d0699c37342a371ac185bdb5b0aa6f073890"
   }
  }
 },
 "nbformat": 4,
 "nbformat_minor": 2
}
